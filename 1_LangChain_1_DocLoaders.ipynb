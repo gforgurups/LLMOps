{
  "nbformat": 4,
  "nbformat_minor": 0,
  "metadata": {
    "colab": {
      "provenance": [],
      "authorship_tag": "ABX9TyMjpnE7YJimctCgFFjS07My",
      "include_colab_link": true
    },
    "kernelspec": {
      "name": "python3",
      "display_name": "Python 3"
    },
    "language_info": {
      "name": "python"
    }
  },
  "cells": [
    {
      "cell_type": "markdown",
      "metadata": {
        "id": "view-in-github",
        "colab_type": "text"
      },
      "source": [
        "<a href=\"https://colab.research.google.com/github/gforgurups/LLMOps/blob/main/1_LangChain_1_DocLoaders.ipynb\" target=\"_parent\"><img src=\"https://colab.research.google.com/assets/colab-badge.svg\" alt=\"Open In Colab\"/></a>"
      ]
    },
    {
      "cell_type": "code",
      "execution_count": null,
      "metadata": {
        "collapsed": true,
        "id": "aW0QCcjBH3PC"
      },
      "outputs": [],
      "source": [
        "!pip install -r sample_data/requirements.txt"
      ]
    },
    {
      "cell_type": "code",
      "source": [
        "##Text loader\n",
        "from langchain_community.document_loaders import TextLoader\n",
        "txt_loader = TextLoader('sample_data/speech.txt')\n",
        "txt_documents = txt_loader.load()\n",
        "txt_documents"
      ],
      "metadata": {
        "id": "-SKOdZe3I871"
      },
      "execution_count": null,
      "outputs": []
    },
    {
      "cell_type": "code",
      "source": [
        "##PDF loader\n",
        "from langchain_community.document_loaders import PyPDFLoader\n",
        "pdf_loader = PyPDFLoader(\"sample_data/attention.pdf\")\n",
        "pdf_documents= pdf_loader.load()\n",
        "pdf_documents"
      ],
      "metadata": {
        "collapsed": true,
        "id": "rV8-z5t1MZUq"
      },
      "execution_count": null,
      "outputs": []
    },
    {
      "cell_type": "code",
      "source": [
        "##Web based loader\n",
        "from langchain_community.document_loaders import WebBaseLoader\n",
        "import bs4\n",
        "web_loader = WebBaseLoader(web_paths=(\"https://lilianweng.github.io/posts/2023-06-23-agent/\",),\n",
        "                           bs_kwargs=dict(parse_only=bs4.SoupStrainer(\n",
        "                                   class_=(\"post-title\",\"post-content\",\"post-header\")\n",
        "                               ))\n",
        "                           )\n",
        "web_documents = web_loader.load()\n",
        "web_documents"
      ],
      "metadata": {
        "id": "HvObiwEMNz_o"
      },
      "execution_count": null,
      "outputs": []
    },
    {
      "cell_type": "code",
      "source": [
        "##Arxiv Loader\n",
        "from langchain_community.document_loaders import ArxivLoader\n",
        "\n",
        "# Supports all arguments of `ArxivAPIWrapper`\n",
        "arxiv_loader = ArxivLoader(\n",
        "    query=\"reasoning\",\n",
        "    load_max_docs=2,\n",
        "    # doc_content_chars_max=1000,\n",
        "    # load_all_available_meta=False,\n",
        "    # ...\n",
        ")\n",
        "arxiv_documents = arxiv_loader.load()\n",
        "arxiv_documents[0]"
      ],
      "metadata": {
        "collapsed": true,
        "id": "Fu5uauPpSXu6"
      },
      "execution_count": null,
      "outputs": []
    },
    {
      "cell_type": "code",
      "source": [
        "print(arxiv_documents[0].metadata)"
      ],
      "metadata": {
        "collapsed": true,
        "id": "r3_ON2kETs3i"
      },
      "execution_count": null,
      "outputs": []
    },
    {
      "cell_type": "code",
      "source": [
        "##Wikipedia loader\n",
        "from langchain_community.document_loaders import WikipediaLoader\n",
        "docs = WikipediaLoader(query=\"Generative AI\", load_max_docs=2).load()\n",
        "len(docs)\n",
        "print(docs)"
      ],
      "metadata": {
        "collapsed": true,
        "id": "1YkB3-cIUX4I"
      },
      "execution_count": null,
      "outputs": []
    },
    {
      "cell_type": "code",
      "source": [
        "print(docs[0].metadata)"
      ],
      "metadata": {
        "collapsed": true,
        "id": "nKTU5vDOU4gD"
      },
      "execution_count": null,
      "outputs": []
    },
    {
      "cell_type": "markdown",
      "source": [
        "## How to recursively split text by characters"
      ],
      "metadata": {
        "id": "C05QrB_vtFl_"
      }
    },
    {
      "cell_type": "code",
      "source": [
        "from langchain_text_splitters import RecursiveCharacterTextSplitter\n",
        "text_splitter = RecursiveCharacterTextSplitter(\n",
        "    chunk_size=500,\n",
        "    chunk_overlap=50,\n",
        ")\n",
        "pdf_texts = text_splitter.split_documents(pdf_documents)\n",
        "print(pdf_texts)\n"
      ],
      "metadata": {
        "id": "MRZYzdAYtA-i"
      },
      "execution_count": null,
      "outputs": []
    },
    {
      "cell_type": "code",
      "source": [],
      "metadata": {
        "id": "Mu0ZpRlfxHjd"
      },
      "execution_count": null,
      "outputs": []
    },
    {
      "cell_type": "markdown",
      "source": [
        "## Html Header TextSplitter"
      ],
      "metadata": {
        "id": "_h8m-mn7Opxg"
      }
    },
    {
      "cell_type": "code",
      "source": [
        "from langchain_text_splitters  import HTMLHeaderTextSplitter\n",
        "\n",
        "html_string = \"\"\"\n",
        "<!DOCTYPE html>\n",
        "<html>\n",
        "<body>\n",
        "    <div>\n",
        "        <h1>Foo</h1>\n",
        "        <p>Some intro text about Foo.</p>\n",
        "        <div>\n",
        "            <h2>Bar main section</h2>\n",
        "            <p>Some intro text about Bar.</p>\n",
        "            <h3>Bar subsection 1</h3>\n",
        "            <p>Some text about the first subtopic of Bar.</p>\n",
        "            <h3>Bar subsection 2</h3>\n",
        "            <p>Some text about the second subtopic of Bar.</p>\n",
        "        </div>\n",
        "        <div>\n",
        "            <h2>Baz</h2>\n",
        "            <p>Some text about Baz</p>\n",
        "        </div>\n",
        "        <br>\n",
        "        <p>Some concluding text about Foo</p>\n",
        "    </div>\n",
        "</body>\n",
        "</html>\n",
        "\"\"\"\n",
        "\n",
        "headers_to_split_on = [\n",
        "    (\"h1\", \"Header 1\"),\n",
        "    (\"h2\", \"Header 2\"),\n",
        "    (\"h3\", \"Header 3\"),\n",
        "]\n",
        "html_splitter = HTMLHeaderTextSplitter(headers_to_split_on=headers_to_split_on)\n",
        "html_header_splits = html_splitter.split_text(html_string)\n",
        "html_header_splits\n"
      ],
      "metadata": {
        "id": "wBdf4-lROvjv"
      },
      "execution_count": null,
      "outputs": []
    },
    {
      "cell_type": "markdown",
      "source": [
        "## JSON Splitter"
      ],
      "metadata": {
        "id": "3rsS82TOkFiM"
      }
    },
    {
      "cell_type": "code",
      "source": [
        "import json\n",
        "import requests\n",
        "from langchain_text_splitters import RecursiveJsonSplitter\n",
        "json_data = requests.get(\"https://api.smith.langchain.com/openapi.json\").json()\n",
        "#json_data = json.dumps(json_data)\n",
        "#print(json_data)\n",
        "\n",
        "json_splitter = RecursiveJsonSplitter(max_chunk_size=300)\n",
        "json_chunks = json_splitter.split_json(json_data)\n",
        "print(json_chunks)"
      ],
      "metadata": {
        "id": "r3p782iUkJr3"
      },
      "execution_count": null,
      "outputs": []
    },
    {
      "cell_type": "code",
      "source": [
        "json_docs = json_splitter.create_documents(texts=[json_data])\n",
        "print(json_docs)"
      ],
      "metadata": {
        "id": "OGfJpmIRmE4C"
      },
      "execution_count": null,
      "outputs": []
    },
    {
      "cell_type": "markdown",
      "source": [
        "## Embedding - OpenAIEmbedding"
      ],
      "metadata": {
        "id": "0SqkONQcoDP-"
      }
    },
    {
      "cell_type": "code",
      "source": [
        "from google.colab import userdata\n",
        "\n",
        "OPENAI_API_KEY  = userdata.get('OPENAI_API_KEY')\n",
        "\n",
        "\n",
        "#https://platform.openai.com/docs/guides/embeddings/\n",
        "from langchain_openai import OpenAIEmbeddings\n",
        "embeddings = OpenAIEmbeddings(api_key=OPENAI_API_KEY,model=\"text-embedding-ada-002\")\n",
        "print(embeddings)"
      ],
      "metadata": {
        "id": "z8WZpZYvoHyM"
      },
      "execution_count": null,
      "outputs": []
    },
    {
      "cell_type": "code",
      "source": [
        "embedded_text = embeddings.embed_query(\"Hello world\")\n",
        "print(embedded_text)"
      ],
      "metadata": {
        "id": "6poWNbUJvsZl"
      },
      "execution_count": null,
      "outputs": []
    },
    {
      "cell_type": "code",
      "source": [
        "print(len(embedded_text))"
      ],
      "metadata": {
        "id": "OshrsXpV4frw"
      },
      "execution_count": null,
      "outputs": []
    },
    {
      "cell_type": "markdown",
      "source": [
        "## Text Splitting + Embedding + Vectorstore"
      ],
      "metadata": {
        "id": "n-TrsJrj73nD"
      }
    },
    {
      "cell_type": "code",
      "source": [
        "from langchain_text_splitters import RecursiveCharacterTextSplitter\n",
        "text_splitter = RecursiveCharacterTextSplitter(\n",
        "    chunk_size=500,\n",
        "    chunk_overlap=50,\n",
        ")\n",
        "txt_docs = text_splitter.split_documents(txt_documents)\n",
        "print(txt_docs)"
      ],
      "metadata": {
        "id": "mRf1B20i5SA8"
      },
      "execution_count": null,
      "outputs": []
    },
    {
      "cell_type": "code",
      "source": [
        "from langchain_community.vectorstores import Chroma\n",
        "db= Chroma.from_documents(txt_docs,embeddings)"
      ],
      "metadata": {
        "id": "3Yes2pLN5r8n"
      },
      "execution_count": null,
      "outputs": []
    },
    {
      "cell_type": "code",
      "source": [
        "query=\"It is a distressing and oppressive duty\"\n",
        "retrieved_results = db.similarity_search(query)\n",
        "print(retrieved_results)"
      ],
      "metadata": {
        "id": "sd3c9zsh7IIQ"
      },
      "execution_count": null,
      "outputs": []
    },
    {
      "cell_type": "markdown",
      "source": [
        "# Ollama Embedding"
      ],
      "metadata": {
        "id": "-l64xtArCzRU"
      }
    },
    {
      "cell_type": "code",
      "source": [
        "from langchain_community.embeddings import OllamaEmbeddings\n",
        "embeddings = OllamaEmbeddings(model=\"gemma:2b\")\n",
        "print(embeddings)"
      ],
      "metadata": {
        "id": "EiC0k33KC2Pw"
      },
      "execution_count": null,
      "outputs": []
    },
    {
      "cell_type": "code",
      "source": [
        "r1 = embeddings.embed_documents(\n",
        "    [\n",
        "        \"Alpha is the first character of the alphabet.\",\n",
        "        \"Beta is the second character of the alphabet\"\n",
        "    ]\n",
        ")\n",
        "\n",
        "print(r1)\n"
      ],
      "metadata": {
        "id": "j4ij_3CYGjUx"
      },
      "execution_count": null,
      "outputs": []
    }
  ]
}